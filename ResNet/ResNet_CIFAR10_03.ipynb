{
 "cells": [
  {
   "cell_type": "code",
   "execution_count": 1,
   "id": "13fe4f5a",
   "metadata": {},
   "outputs": [],
   "source": [
    "import numpy as np\n",
    "import matplotlib.pyplot as plt\n",
    "\n",
    "import torch\n",
    "import torch.nn as nn\n",
    "import torch.optim as optim\n",
    "import torchvision\n",
    "import torchvision.transforms as transforms"
   ]
  },
  {
   "cell_type": "code",
   "execution_count": 2,
   "id": "53009dde",
   "metadata": {},
   "outputs": [
    {
     "name": "stdout",
     "output_type": "stream",
     "text": [
      "Files already downloaded and verified\n",
      "Files already downloaded and verified\n"
     ]
    }
   ],
   "source": [
    "'''\n",
    "데이터 전처리 및 로드\n",
    "'''\n",
    "train_trans = transforms.Compose([\n",
    "    transforms.RandomCrop(32, padding = 4),\n",
    "    transforms.RandomHorizontalFlip(),\n",
    "    transforms.ToTensor()\n",
    "])\n",
    "#\n",
    "test_trans = transforms.ToTensor()\n",
    "\n",
    "train_dataset = torchvision.datasets.CIFAR10(root = \"D:/programming/week7/data\", download = True, train = True, transform = train_trans)\n",
    "test_dataset = torchvision.datasets.CIFAR10(root = \"D:/programming/week7/data\", download = True, train = False, transform = test_trans)\n",
    "\n",
    "train_loader = torch.utils.data.DataLoader(train_dataset, batch_size = 128, shuffle = True)\n",
    "test_loader = torch.utils.data.DataLoader(test_dataset, batch_size = 128, shuffle = True)\n",
    "\n",
    "class_names = (\"plane\", \"car\", \"bird\", \"cat\", \"deer\", \"dog\", \"frog\", \"horse\", \"ship\", \"truck\")"
   ]
  },
  {
   "cell_type": "markdown",
   "id": "c116105d",
   "metadata": {},
   "source": [
    "num = np.random.randint(0, len(test_loader) + 1, 16)\n",
    "for i, idx in enumerate(num, 1):\n",
    "    plt.subplot(4, 4, i)\n",
    "    img = test_dataset[idx][0]\n",
    "    label = test_dataset[idx][1]\n",
    "    img = np.transpose(img, (1, 2, 0))\n",
    "    plt.imshow(img)\n",
    "    plt.title(f\"{class_names[label]}\", fontsize = 8)\n",
    "    plt.axis(\"off\")\n",
    "plt.show()"
   ]
  },
  {
   "cell_type": "code",
   "execution_count": 3,
   "id": "332a2305",
   "metadata": {},
   "outputs": [],
   "source": [
    "class Residual_Block(nn.Module):\n",
    "    ex = 1\n",
    "    def __init__(self, in_channels, out_channels, stride = 1):\n",
    "        super(Residual_Block, self).__init__()\n",
    "\n",
    "        self.conv1 = nn.Sequential(\n",
    "            nn.Conv2d(in_channels, out_channels, kernel_size = 3, stride = stride, padding = 1, bias = False),\n",
    "            nn.BatchNorm2d(out_channels),\n",
    "            nn.ReLU()\n",
    "        )\n",
    "        self.conv2 = nn.Sequential(\n",
    "            nn.Conv2d(out_channels, out_channels * self.ex, kernel_size = 3, stride = 1, padding = 1, bias = False),\n",
    "            nn.BatchNorm2d(out_channels * self.ex)\n",
    "        )\n",
    "        self.relu = nn.ReLU()\n",
    "\n",
    "        if (stride != 1) or (in_channels != out_channels * self.ex):\n",
    "            self.shortcut = nn.Sequential(\n",
    "                nn.Conv2d(in_channels, out_channels * self.ex, kernel_size = 1, stride = stride, bias = False),\n",
    "                nn.BatchNorm2d(out_channels * self.ex)\n",
    "            )\n",
    "        else:\n",
    "            self.shortcut = nn.Sequential()\n",
    "\n",
    "    def forward(self, x):\n",
    "        residual = x\n",
    "        x = self.conv1(x)\n",
    "        x = self.conv2(x)\n",
    "        x += self.shortcut(residual)\n",
    "        x = self.relu(x)\n",
    "        return x"
   ]
  },
  {
   "cell_type": "code",
   "execution_count": 4,
   "id": "c004c238",
   "metadata": {},
   "outputs": [],
   "source": [
    "class Bottleneck(nn.Module):\n",
    "    ex = 4\n",
    "    def __init__(self, in_channels, out_channels, stride = 1):\n",
    "        super(Bottleneck, self).__init__()\n",
    "\n",
    "        self.conv1 = nn.Sequential(\n",
    "            nn.Conv2d(in_channels, out_channels, kernel_size = 1, stride = 1, bias = False),\n",
    "            nn.BatchNorm2d(out_channels),\n",
    "            nn.ReLU()\n",
    "        )\n",
    "        self.conv2 = nn.Sequential(\n",
    "            nn.Conv2d(out_channels, out_channels, kernel_size = 3, stride = stride, padding = 1, bias = False),\n",
    "            nn.BatchNorm2d(out_channels),\n",
    "            nn.ReLU()\n",
    "        )\n",
    "        self.conv3 = nn.Sequential(\n",
    "            nn.Conv2d(out_channels, out_channels * self.ex, kernel_size = 1, stride = 1, bias = False),\n",
    "            nn.BatchNorm2d(out_channels * self.ex)\n",
    "        )\n",
    "        self.relu = nn.ReLU()\n",
    "\n",
    "        if (stride != 1) or (in_channels != out_channels * self.ex):\n",
    "            self.shortcut = nn.Sequential(\n",
    "                nn.Conv2d(in_channels, out_channels * self.ex, kernel_size = 1, stride = stride, bias = False),\n",
    "                nn.BatchNorm2d(out_channels * self.ex)\n",
    "            )\n",
    "        else:\n",
    "            self.shortcut = nn.Sequential()\n",
    "\n",
    "    def forward(self, x):\n",
    "        residual = x\n",
    "        x = self.conv1(x)\n",
    "        x = self.conv2(x)\n",
    "        x = self.conv3(x)\n",
    "        x += self.shortcut(residual)\n",
    "        x = self.relu(x)\n",
    "        return x"
   ]
  },
  {
   "cell_type": "code",
   "execution_count": 5,
   "id": "e14c369c",
   "metadata": {},
   "outputs": [],
   "source": [
    "class ResNet(nn.Module):\n",
    "    def __init__(self, block, num_block, num_classes = 10):\n",
    "        super(ResNet, self).__init__()\n",
    "        self.in_channels = 64\n",
    "\n",
    "        self.conv1 = nn.Sequential(\n",
    "            nn.Conv2d(3, 64, kernel_size = 7, stride = 2, padding = 3, bias = False),\n",
    "            nn.BatchNorm2d(64),\n",
    "            nn.ReLU(),\n",
    "            nn.MaxPool2d(kernel_size = 3, stride = 2, padding = 1)\n",
    "        )\n",
    "        self.conv2 = self.make_layer(block, 64, num_block[0], 1)\n",
    "        self.conv3 = self.make_layer(block, 128, num_block[1], 2)\n",
    "        self.conv4 = self.make_layer(block, 256, num_block[2], 2)\n",
    "        self.conv5 = self.make_layer(block, 512, num_block[3], 2)\n",
    "        self.avg_pool = nn.AdaptiveAvgPool2d((1, 1))\n",
    "        self.fc = nn.Linear(512 * block.ex, num_classes)\n",
    "\n",
    "    def make_layer(self, block, out_channels, num_block, stride):\n",
    "        strides = [stride] + [1] * (num_block - 1)\n",
    "        layers = []\n",
    "\n",
    "        for stride in strides:\n",
    "            layers.append(block(self.in_channels, out_channels, stride))\n",
    "            self.in_channels = out_channels * block.ex\n",
    "        return nn.Sequential(*layers)\n",
    "\n",
    "    def forward(self, x):\n",
    "        x = self.conv1(x)\n",
    "        x = self.conv2(x)\n",
    "        x = self.conv3(x)\n",
    "        x = self.conv4(x)\n",
    "        x = self.conv5(x)\n",
    "        x = self.avg_pool(x)\n",
    "        x = x.view(x.size(0), -1)\n",
    "        x = self.fc(x)\n",
    "        return x"
   ]
  },
  {
   "cell_type": "code",
   "execution_count": 6,
   "id": "1da29403",
   "metadata": {},
   "outputs": [],
   "source": [
    "def ResNet18():\n",
    "    return ResNet(Residual_Block, [2, 2, 2, 2])\n",
    "def ResNet34():\n",
    "    return ResNet(Residual_Block, [3, 4, 6, 3])\n",
    "def ResNet50():\n",
    "    return ResNet(Bottleneck, [3, 4, 6, 3])\n",
    "def ResNet101():\n",
    "    return ResNet(Bottleneck, [3, 4, 23, 3])\n",
    "def ResNet152():\n",
    "    return ResNet(Bottleneck, [3, 8, 36, 3])"
   ]
  },
  {
   "cell_type": "code",
   "execution_count": 7,
   "id": "569c704f",
   "metadata": {},
   "outputs": [],
   "source": [
    "model = ResNet18().cuda()\n",
    "lr = 0.1\n",
    "criterion = nn.CrossEntropyLoss().cuda()\n",
    "optimizer = optim.SGD(model.parameters(), lr = lr, momentum = 0.9, weight_decay = 0.0001)\n",
    "\n",
    "num_epochs = 3\n",
    "image = []\n",
    "real_label = []\n",
    "pred_label = []"
   ]
  },
  {
   "cell_type": "code",
   "execution_count": 8,
   "id": "cf850160",
   "metadata": {},
   "outputs": [],
   "source": [
    "def train(epoch):\n",
    "    model.train()\n",
    "    train_loss = 0\n",
    "    cnt = 0\n",
    "    size = 0\n",
    "\n",
    "    for idx, (img, lbl) in enumerate(train_loader):\n",
    "        img = img.cuda()\n",
    "        lbl = lbl.cuda()\n",
    "\n",
    "        optimizer.zero_grad()\n",
    "\n",
    "        out = model(img)\n",
    "        loss = criterion(out, lbl)\n",
    "        loss.backward()\n",
    "        optimizer.step()\n",
    "\n",
    "        _, predict = torch.max(out, dim = 1)\n",
    "        train_loss += loss.item()\n",
    "        size += lbl.size(0)\n",
    "        cnt += torch.sum(predict == lbl).item()\n",
    "\n",
    "    train_acc = cnt / size * 100\n",
    "    print(f\"[Epoch - {epoch + 1}]\")\n",
    "    print(f\"Train loss = {train_loss:.6f}, Train acc = {train_acc:.2f}%\")"
   ]
  },
  {
   "cell_type": "code",
   "execution_count": 9,
   "id": "4cbc49e7",
   "metadata": {},
   "outputs": [],
   "source": [
    "def test(epoch):\n",
    "    model.eval()\n",
    "    test_loss = 0\n",
    "    cnt = 0\n",
    "    size = 0\n",
    "\n",
    "    with torch.no_grad():\n",
    "        for img, lbl in test_loader:\n",
    "            img = img.cuda()\n",
    "            lbl = lbl.cuda()\n",
    "\n",
    "            out = model(img)\n",
    "            loss = criterion(out, lbl)\n",
    "\n",
    "            _, predict = torch.max(out, dim = 1)\n",
    "            test_loss += loss.item()\n",
    "            size += lbl.size(0)\n",
    "            cnt += torch.sum(predict == lbl).item()\n",
    "\n",
    "        if epoch + 1 == num_epochs:\n",
    "            image.append(img)\n",
    "            real_label.append(lbl)\n",
    "            pred_label.append(predict)\n",
    "\n",
    "        test_acc = cnt / size * 100\n",
    "        print(f\"Test loss = {test_loss:.6f}, Test acc = {test_acc:.2f}%\")"
   ]
  },
  {
   "cell_type": "code",
   "execution_count": 10,
   "id": "4ac11919",
   "metadata": {},
   "outputs": [
    {
     "name": "stdout",
     "output_type": "stream",
     "text": [
      "[Epoch - 1]\n",
      "Train loss = 854.178908, Train acc = 26.85%\n",
      "Test loss = 130.775236, Test acc = 38.60%\n",
      "[Epoch - 2]\n",
      "Train loss = 620.930602, Train acc = 41.20%\n",
      "Test loss = 121.181021, Test acc = 44.59%\n",
      "[Epoch - 3]\n",
      "Train loss = 545.562231, Train acc = 49.36%\n",
      "Test loss = 109.526507, Test acc = 50.43%\n"
     ]
    }
   ],
   "source": [
    "for epoch in range(num_epochs):\n",
    "    train(epoch)\n",
    "    test(epoch)"
   ]
  },
  {
   "cell_type": "code",
   "execution_count": 26,
   "id": "13cf93c5",
   "metadata": {},
   "outputs": [
    {
     "data": {
      "text/plain": [
       "8"
      ]
     },
     "execution_count": 26,
     "metadata": {},
     "output_type": "execute_result"
    }
   ],
   "source": [
    "real_label[0][15].cpu().item()"
   ]
  },
  {
   "cell_type": "code",
   "execution_count": 25,
   "id": "fc2dd84c",
   "metadata": {},
   "outputs": [
    {
     "data": {
      "text/plain": [
       "torch.Size([32, 32, 3])"
      ]
     },
     "execution_count": 25,
     "metadata": {},
     "output_type": "execute_result"
    }
   ],
   "source": [
    "np.transpose(image[0][15].cpu(), (1, 2, 0)).shape"
   ]
  },
  {
   "cell_type": "markdown",
   "id": "5f990933",
   "metadata": {},
   "source": [
    "for i in range(16):\n",
    "    plt.subplot(4, 4, i + 1)\n",
    "    image = np.transpose(image[0][i].cpu(), (1, 2, 0))\n",
    "    plt.imshow(image)\n",
    "    plt.title(f\"real - {class_names[real_label[0][i].cpu().item()]}, pred - {class_names[pred_label[0][i].cpu().item()]}\", fontsize = 8)\n",
    "    plt.axis(\"off\")\n",
    "plt.show()"
   ]
  }
 ],
 "metadata": {
  "kernelspec": {
   "display_name": "py310_python",
   "language": "python",
   "name": "py310"
  },
  "language_info": {
   "codemirror_mode": {
    "name": "ipython",
    "version": 3
   },
   "file_extension": ".py",
   "mimetype": "text/x-python",
   "name": "python",
   "nbconvert_exporter": "python",
   "pygments_lexer": "ipython3",
   "version": "3.9.7"
  }
 },
 "nbformat": 4,
 "nbformat_minor": 5
}
